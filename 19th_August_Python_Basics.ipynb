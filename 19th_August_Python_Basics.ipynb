{
 "cells": [
  {
   "cell_type": "markdown",
   "id": "5c66f55f",
   "metadata": {},
   "source": [
    "### 1. Declare two variables, `x` and `y`, and assign them integer values.Swap the values of these variables without using any temporary variable."
   ]
  },
  {
   "cell_type": "code",
   "execution_count": 1,
   "id": "c746a2be",
   "metadata": {},
   "outputs": [
    {
     "name": "stdout",
     "output_type": "stream",
     "text": [
      "2\n",
      "1\n"
     ]
    }
   ],
   "source": [
    "x , y =1, 2\n",
    "#Swapping\n",
    "x,y=y,x\n",
    "\n",
    "print(x)\n",
    "print(y)"
   ]
  },
  {
   "cell_type": "markdown",
   "id": "bdda9f77",
   "metadata": {},
   "source": [
    "### 2. Create a program that calculates the area of a rectangle. Take the length and width as inputs from the user and store them in variables.Calculate and display the area.\n"
   ]
  },
  {
   "cell_type": "code",
   "execution_count": 2,
   "id": "8c843f9a",
   "metadata": {},
   "outputs": [
    {
     "name": "stdout",
     "output_type": "stream",
     "text": [
      "enter the length of the rectangle\n",
      "8\n",
      "enter the breadth of the rectangle\n",
      "4\n",
      "Area of the rectangle is:  32\n"
     ]
    }
   ],
   "source": [
    "#Taking input from user\n",
    "print(\"enter the length of the rectangle\")\n",
    "length = int(input())\n",
    "\n",
    "print(\"enter the breadth of the rectangle\")\n",
    "breadth = int(input())\n",
    "\n",
    "Area=length * breadth\n",
    "\n",
    "print(\"Area of the rectangle is: \",Area)"
   ]
  },
  {
   "cell_type": "markdown",
   "id": "15d45e88",
   "metadata": {},
   "source": [
    "### 3. Write a Python program that converts temperature from Celsius to Fahrenheit. Take the temperature in Celsius as input, store it in a variable, convert it to Fahrenheit, and display the result.\n"
   ]
  },
  {
   "cell_type": "code",
   "execution_count": 3,
   "id": "4d9f524a",
   "metadata": {},
   "outputs": [
    {
     "name": "stdout",
     "output_type": "stream",
     "text": [
      "enter temperature in celsius\n",
      "24\n",
      "temperature in fahrenheit:  75.2\n"
     ]
    }
   ],
   "source": [
    "print(\"enter temperature in celsius\")\n",
    "C=float(input())\n",
    "\n",
    "F=(9/5*C )+32\n",
    "\n",
    "print(\"temperature in fahrenheit: \",F)"
   ]
  },
  {
   "cell_type": "markdown",
   "id": "23da3f19",
   "metadata": {},
   "source": [
    "### 1. Write a Python program that takes a string as input and prints the length of the string.\n"
   ]
  },
  {
   "cell_type": "code",
   "execution_count": 4,
   "id": "7263641f",
   "metadata": {},
   "outputs": [
    {
     "name": "stdout",
     "output_type": "stream",
     "text": [
      "Enter the input string\n",
      "Nishitha\n",
      "Length of the string is:  8\n"
     ]
    }
   ],
   "source": [
    "print(\"Enter the input string\")\n",
    "s=input()\n",
    "print(\"Length of the string is: \",len(s))"
   ]
  },
  {
   "cell_type": "markdown",
   "id": "602fb6f5",
   "metadata": {},
   "source": [
    "### 2. Create a program that takes a sentence from the user and counts the number of vowels (a, e, i, o, u) in the string."
   ]
  },
  {
   "cell_type": "code",
   "execution_count": 8,
   "id": "e18b45fe",
   "metadata": {},
   "outputs": [
    {
     "name": "stdout",
     "output_type": "stream",
     "text": [
      "Enter the sentence\n",
      "Test sentence\n",
      "Vowel counts - a:0 e:4 i:0 o:0 u:0\n"
     ]
    }
   ],
   "source": [
    "print(\"Enter the sentence\")\n",
    "sentence=(input()).lower()\n",
    "a=sentence.count('a')\n",
    "e=sentence.count('e')\n",
    "i=sentence.count('i')\n",
    "o=sentence.count('o')\n",
    "u=sentence.count('u')\n",
    "\n",
    "print(\"Vowel counts - a:{} e:{} i:{} o:{} u:{}\".format(a,e,i,o,u))"
   ]
  },
  {
   "cell_type": "markdown",
   "id": "62eaf205",
   "metadata": {},
   "source": [
    "### 3. Given a string, reverse the order of characters using string slicing and print the reversed string."
   ]
  },
  {
   "cell_type": "code",
   "execution_count": 9,
   "id": "4140a4c4",
   "metadata": {},
   "outputs": [
    {
     "name": "stdout",
     "output_type": "stream",
     "text": [
      "Enter the string:\n",
      "nishitha\n",
      "Reversed string: ahtihsin\n"
     ]
    }
   ],
   "source": [
    "print(\"Enter the string:\")\n",
    "s=input()\n",
    "\n",
    "print(\"Reversed string:\",s[::-1])"
   ]
  },
  {
   "cell_type": "markdown",
   "id": "05a6e6c1",
   "metadata": {},
   "source": [
    "### 4. Write a program that takes a string as input and checks if it is a palindrome (reads the same forwards and backwards)."
   ]
  },
  {
   "cell_type": "code",
   "execution_count": 11,
   "id": "5e215da8",
   "metadata": {},
   "outputs": [
    {
     "name": "stdout",
     "output_type": "stream",
     "text": [
      "Enter a string:\n",
      "busy\n",
      "busy is not a palindrome\n"
     ]
    }
   ],
   "source": [
    "print(\"Enter a string:\")\n",
    "s=input()\n",
    "if(s==s[::-1]):\n",
    "    print(\"{} is a palindrome\".format(s))\n",
    "else:\n",
    "    print(\"{} is not a palindrome\".format(s))"
   ]
  },
  {
   "cell_type": "markdown",
   "id": "cdccd3e4",
   "metadata": {},
   "source": [
    "### 5. Create a program that takes a string as input and removes all the spaces from it. Print the modified string without spaces."
   ]
  },
  {
   "cell_type": "code",
   "execution_count": 12,
   "id": "7dd77056",
   "metadata": {},
   "outputs": [
    {
     "name": "stdout",
     "output_type": "stream",
     "text": [
      "Enter a string with spaces\n",
      "t h a n k s\n",
      "thanks\n"
     ]
    }
   ],
   "source": [
    "print(\"Enter a string with spaces\")\n",
    "s=(input()).replace(\" \",\"\")\n",
    "\n",
    "print(s)\n"
   ]
  },
  {
   "cell_type": "code",
   "execution_count": null,
   "id": "f0b31968",
   "metadata": {},
   "outputs": [],
   "source": []
  }
 ],
 "metadata": {
  "kernelspec": {
   "display_name": "Python 3 (ipykernel)",
   "language": "python",
   "name": "python3"
  },
  "language_info": {
   "codemirror_mode": {
    "name": "ipython",
    "version": 3
   },
   "file_extension": ".py",
   "mimetype": "text/x-python",
   "name": "python",
   "nbconvert_exporter": "python",
   "pygments_lexer": "ipython3",
   "version": "3.9.7"
  }
 },
 "nbformat": 4,
 "nbformat_minor": 5
}
